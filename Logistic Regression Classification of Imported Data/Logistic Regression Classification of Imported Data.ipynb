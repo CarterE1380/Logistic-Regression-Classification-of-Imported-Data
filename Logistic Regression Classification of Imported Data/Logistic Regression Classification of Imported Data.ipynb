{
 "cells": [
  {
   "cell_type": "markdown",
   "metadata": {},
   "source": [
    "# Lab Statement\n",
    "This lab introduces the Logistic Regression classification algorithm through using a cardiology dataset. We will classify unknown patients as either healthy or sick using our predictive model."
   ]
  },
  {
   "cell_type": "markdown",
   "metadata": {},
   "source": [
    "# Objectives\n",
    "- Create and use Machine Learning Models with SciKit Learn\n",
    "- Learn more advanced NumPy (Numerical Python) features\n",
    "- Learn how to import data from remote websites (UCI Machine Learning Dataset)\n",
    "- Train-Test Split of data with SciKit Learn\n",
    "- Perform Classification with SciKit Learn\n",
    "- Create Predictive Models\n",
    "- Perform Model Evaluation\n",
    "    - Model Score and Accuracy\n",
    "    - Compute Class Membership Probabilites\n",
    "- Decision Boundary Plotting with MatPlotLib (Not this lab)"
   ]
  },
  {
   "cell_type": "markdown",
   "metadata": {},
   "source": [
    "# Introduction"
   ]
  },
  {
   "cell_type": "markdown",
   "metadata": {},
   "source": [
    "### Supervised Learning\n",
    "**Supervised Learning** is the proccess of building classification models using data instances of known origin.\n",
    "\n",
    "Classification is probably the best understood of all the data science and machine learning strategies. Classification tasks have three common characteristics:\n",
    "\n",
    " - Learnning is supervised\n",
    " - The dependent variable is categorical\n",
    " - The emphasis is on building models able to assign new instancces to one set of well-defined classes"
   ]
  },
  {
   "cell_type": "markdown",
   "metadata": {},
   "source": [
    "### Logistic Regression"
   ]
  },
  {
   "cell_type": "markdown",
   "metadata": {},
   "source": [
    "There are many applications where we are not only interested in the predicted class labels, but where the *estimation of the class-membership probability* is particularly useful (the output of the Sigmoid function prior to applying the threshold function). \n",
    "\n",
    "<img src=\"images/math.png\" align=\"center\" width=600; height=600>\n",
    "\n",
    "Logistic Regression is used in weather forecasting, for example, not only to predict of it will rain on a particular day but also to report the chance of rain. Similarly, Logistical Regression can be used to preduct the chance that a patient has a particular disease given certain symptoms, which is why it's very popular in the field of medicine."
   ]
  },
  {
   "cell_type": "markdown",
   "metadata": {},
   "source": [
    "### Cardiology Dataset"
   ]
  },
  {
   "cell_type": "markdown",
   "metadata": {},
   "source": [
    "This dataset has 303 samples of 13 different attributes:\n",
    "\n",
    "<img src=\"images/cardiolog_dataset.png\" align=\"center\" width=600; height=400>\n",
    "\n",
    "The Cardiology Patient Dataset is often used in Machine Learning. The original data was gather by Dr. Robert Detrano at the VA Medical Center in Long Beach, California. This dataset consists of 303 instances - 138 of the instances hold information abou patients with Heart Disease. The original dataset contains 13 numeric attributes  and a 14th attribute indicating whether the patient has a heart condition. The dataset was later modified by Dr. John Gennari - he changed seven of the numerical attributes to categorical equivalents for the purpose of testing data mining tools able to classify datasets with mixed data types. The Microsoft Excel file names for the datasets are **CardiologyNumerical.xlsx** and **CardiologyCategorical.xlsx**, respecively. This dataset is interesting because ot represents real patient data and has been extensively used for testing various data sciene techniques. We can use this data together, with one or more data science techniques, to help us develop profiles for differentiating individuals with heart disease from those without heart conditions.\n",
    "\n",
    "<img src=\"images/table_1.png\" align=\"center\" width=600; height=400>"
   ]
  },
  {
   "cell_type": "markdown",
   "metadata": {},
   "source": [
    "# Importing the Essentials"
   ]
  },
  {
   "cell_type": "code",
   "execution_count": 1,
   "metadata": {},
   "outputs": [],
   "source": [
    "%matplotlib inline\n",
    "import pandas as pd\n",
    "import numpy as np\n",
    "import matplotlib.pyplot as plt"
   ]
  },
  {
   "cell_type": "markdown",
   "metadata": {},
   "source": [
    "# Importing the Cardiology Dataset"
   ]
  },
  {
   "cell_type": "code",
   "execution_count": 24,
   "metadata": {},
   "outputs": [
    {
     "data": {
      "text/html": [
       "<div>\n",
       "<style scoped>\n",
       "    .dataframe tbody tr th:only-of-type {\n",
       "        vertical-align: middle;\n",
       "    }\n",
       "\n",
       "    .dataframe tbody tr th {\n",
       "        vertical-align: top;\n",
       "    }\n",
       "\n",
       "    .dataframe thead th {\n",
       "        text-align: right;\n",
       "    }\n",
       "</style>\n",
       "<table border=\"1\" class=\"dataframe\">\n",
       "  <thead>\n",
       "    <tr style=\"text-align: right;\">\n",
       "      <th></th>\n",
       "      <th>angina</th>\n",
       "      <th>slope</th>\n",
       "      <th>thal</th>\n",
       "      <th>class</th>\n",
       "    </tr>\n",
       "  </thead>\n",
       "  <tbody>\n",
       "    <tr>\n",
       "      <th>0</th>\n",
       "      <td>1</td>\n",
       "      <td>2</td>\n",
       "      <td>7</td>\n",
       "      <td>0</td>\n",
       "    </tr>\n",
       "    <tr>\n",
       "      <th>1</th>\n",
       "      <td>0</td>\n",
       "      <td>1</td>\n",
       "      <td>3</td>\n",
       "      <td>1</td>\n",
       "    </tr>\n",
       "    <tr>\n",
       "      <th>2</th>\n",
       "      <td>1</td>\n",
       "      <td>2</td>\n",
       "      <td>3</td>\n",
       "      <td>1</td>\n",
       "    </tr>\n",
       "    <tr>\n",
       "      <th>3</th>\n",
       "      <td>0</td>\n",
       "      <td>2</td>\n",
       "      <td>7</td>\n",
       "      <td>0</td>\n",
       "    </tr>\n",
       "    <tr>\n",
       "      <th>4</th>\n",
       "      <td>1</td>\n",
       "      <td>3</td>\n",
       "      <td>7</td>\n",
       "      <td>0</td>\n",
       "    </tr>\n",
       "  </tbody>\n",
       "</table>\n",
       "</div>"
      ],
      "text/plain": [
       "   angina  slope  thal  class\n",
       "0       1      2     7      0\n",
       "1       0      1     3      1\n",
       "2       1      2     3      1\n",
       "3       0      2     7      0\n",
       "4       1      3     7      0"
      ]
     },
     "execution_count": 24,
     "metadata": {},
     "output_type": "execute_result"
    }
   ],
   "source": [
    "df = pd.read_csv('data/CardiologyNumerical_Lab5.csv')\n",
    "df\n",
    "df.head()"
   ]
  },
  {
   "cell_type": "markdown",
   "metadata": {},
   "source": [
    "# Data Preprocessing"
   ]
  },
  {
   "cell_type": "markdown",
   "metadata": {},
   "source": [
    "### Creating the Feature/Target Matrices"
   ]
  },
  {
   "cell_type": "code",
   "execution_count": 3,
   "metadata": {},
   "outputs": [],
   "source": [
    "#Creating the Feature Matrix\n",
    "X = df[['angina', 'slope', 'thal']]\n",
    "\n",
    "#Creating the Target Matrix\n",
    "y = df['class']"
   ]
  },
  {
   "cell_type": "markdown",
   "metadata": {},
   "source": [
    "### Checking the Shape of the Matrices"
   ]
  },
  {
   "cell_type": "code",
   "execution_count": 4,
   "metadata": {},
   "outputs": [
    {
     "name": "stdout",
     "output_type": "stream",
     "text": [
      "The shape of the Feature array (X) is: (303, 3)\n",
      "The shape of the Target Array (y) is: (303,)\n"
     ]
    }
   ],
   "source": [
    "print('The shape of the Feature array (X) is: {}'.format(X.shape))\n",
    "print('The shape of the Target Array (y) is: {}'.format(y.shape))"
   ]
  },
  {
   "cell_type": "markdown",
   "metadata": {},
   "source": [
    "###  Turning Feature/Target Arrays into NumPy Arrays"
   ]
  },
  {
   "cell_type": "code",
   "execution_count": 5,
   "metadata": {},
   "outputs": [],
   "source": [
    "X = df[['angina', 'slope', 'thal']].values\n",
    "y = df['class'].values"
   ]
  },
  {
   "cell_type": "markdown",
   "metadata": {},
   "source": [
    "# Splitting of the Data"
   ]
  },
  {
   "cell_type": "code",
   "execution_count": 6,
   "metadata": {},
   "outputs": [],
   "source": [
    "#Import Train-Test Split from Sci-Kit Learn\n",
    "from sklearn.model_selection import train_test_split\n",
    "\n",
    "#Complete the Split\n",
    "X_train, X_test, y_train, y_test = train_test_split(X, y, test_size = 0.25, random_state = 0)"
   ]
  },
  {
   "cell_type": "markdown",
   "metadata": {},
   "source": [
    "### Checking the Shape (See if Split was Correct)"
   ]
  },
  {
   "cell_type": "code",
   "execution_count": 7,
   "metadata": {},
   "outputs": [
    {
     "name": "stdout",
     "output_type": "stream",
     "text": [
      "Feature Training Set: (227, 3)\n",
      "Feature Testing Set: (76, 3)\n",
      "Target Training Set: (227,)\n",
      "Target Testing Set: (76,)\n"
     ]
    }
   ],
   "source": [
    "#Shape of Feature Dataset\n",
    "print('Feature Training Set: {}'.format(X_train.shape))\n",
    "print('Feature Testing Set: {}'.format(X_test.shape))\n",
    "\n",
    "#Shape of the Target Dataset\n",
    "print('Target Training Set: {}'.format(y_train.shape))\n",
    "print('Target Testing Set: {}'.format(y_test.shape))"
   ]
  },
  {
   "cell_type": "markdown",
   "metadata": {},
   "source": [
    "# Building, Training, and Evaluating the Model"
   ]
  },
  {
   "cell_type": "markdown",
   "metadata": {},
   "source": [
    "### Building the Model - Importing and Instantiating the Class"
   ]
  },
  {
   "cell_type": "code",
   "execution_count": 8,
   "metadata": {},
   "outputs": [],
   "source": [
    "#Import Linear Regression Model\n",
    "from sklearn.linear_model import LogisticRegression\n",
    "\n",
    "#Instantiating the Class\n",
    "lr = LogisticRegression(solver = 'newton-cg',\n",
    "                       multi_class = 'multinomial',\n",
    "                       random_state = 0)"
   ]
  },
  {
   "cell_type": "markdown",
   "metadata": {},
   "source": [
    "### Training the Model - Calling the Fit Function"
   ]
  },
  {
   "cell_type": "code",
   "execution_count": 9,
   "metadata": {},
   "outputs": [
    {
     "data": {
      "text/plain": [
       "LogisticRegression(multi_class='multinomial', random_state=0,\n",
       "                   solver='newton-cg')"
      ]
     },
     "execution_count": 9,
     "metadata": {},
     "output_type": "execute_result"
    }
   ],
   "source": [
    "#Calling the Fit Function\n",
    "lr.fit(X_train, y_train)"
   ]
  },
  {
   "cell_type": "markdown",
   "metadata": {},
   "source": [
    "### Evaluating the Model - Checking Predictions and Scoring the Model"
   ]
  },
  {
   "cell_type": "code",
   "execution_count": 10,
   "metadata": {},
   "outputs": [
    {
     "name": "stdout",
     "output_type": "stream",
     "text": [
      "Actual Values of the Testing Set:\n",
      " [1 1 1 1 0 1 1 0 1 0 0 0 0 1 1 0 0 0 0 1 1 1 1 1 0 0 0 1 0 0 1 1 0 1 1 1 1\n",
      " 1 0 1 1 0 0 1 1 0 0 1 0 0 1 1 1 0 1 1 1 1 0 0 1 0 0 0 1 1 1 0 0 1 1 1 0 0\n",
      " 1 0]\n",
      "Test set predictions:\n",
      " [1 1 1 1 0 1 0 0 0 0 0 1 0 1 1 0 0 0 0 0 1 1 1 0 0 1 0 1 0 0 1 1 0 0 1 1 1\n",
      " 1 1 1 1 0 0 1 0 0 0 0 0 0 1 1 1 0 0 1 1 1 0 0 1 0 0 1 1 1 0 0 0 1 1 0 0 0\n",
      " 1 1]\n",
      "Test accuracy: 0.8\n"
     ]
    }
   ],
   "source": [
    "#Create the Prediction Vector\n",
    "y_pred = lr.predict(X_test)\n",
    "\n",
    "#Printing the Actual Values\n",
    "print(\"Actual Values of the Testing Set:\\n {}\".format(y_test))\n",
    "\n",
    "#Checking the Predictions\n",
    "print(\"Test set predictions:\\n {}\".format(y_pred))\n",
    "\n",
    "#Verifying the Accuracy\n",
    "print('Test accuracy: {0:0.2}'.format(lr.score(X_test, y_test)))"
   ]
  },
  {
   "cell_type": "markdown",
   "metadata": {},
   "source": [
    "# Predicting Class-Membership Probabilites"
   ]
  },
  {
   "cell_type": "markdown",
   "metadata": {},
   "source": [
    "SciKit-Learn has a method that allows prediction of *class member probabilities.*\n",
    "   - The probability that training or testing examples belong to a certain class can be computed using the **predict_proba** method. \n",
    "   - For example the first three samples in the test set as follows (NOTE: X_test[:3,:] means get the first 3 rows and the associated columns form the test dataset X_test):"
   ]
  },
  {
   "cell_type": "code",
   "execution_count": 11,
   "metadata": {},
   "outputs": [
    {
     "data": {
      "text/plain": [
       "array([[0.21509924, 0.78490076],\n",
       "       [0.11636406, 0.88363594],\n",
       "       [0.21509924, 0.78490076]])"
      ]
     },
     "execution_count": 11,
     "metadata": {},
     "output_type": "execute_result"
    }
   ],
   "source": [
    "lr.predict_proba(X_test[:3,:])"
   ]
  },
  {
   "cell_type": "markdown",
   "metadata": {},
   "source": [
    "The method returns an array with rows that correspond to probabilities of belonging to each class, and displays the same format for other rows if multiple sample instances are predicted. If you want to predict the class membership probabilities for a single row of data in the test set, we can do that as follows:"
   ]
  },
  {
   "cell_type": "code",
   "execution_count": 12,
   "metadata": {},
   "outputs": [
    {
     "data": {
      "text/plain": [
       "array([[0.11636406, 0.88363594]])"
      ]
     },
     "execution_count": 12,
     "metadata": {},
     "output_type": "execute_result"
    }
   ],
   "source": [
    "lr.predict_proba(X_test[1:2])"
   ]
  },
  {
   "cell_type": "markdown",
   "metadata": {},
   "source": [
    "**NOTE:** We can also predict probabilities (.e.g. for a patientin the dataset) by passing a 2D array(a 2D list) directly to the **lr.predict_proba()** method. For example: if **angina = 0.0, slope = 2.0, and thal = 3.0**, then we could substitute the 2D list **[[angina, slope, thal]]** for the **X_test[start:end]** in the **lr.predict_proba()** method above."
   ]
  },
  {
   "cell_type": "markdown",
   "metadata": {},
   "source": [
    "# Predictive Model Building"
   ]
  },
  {
   "cell_type": "markdown",
   "metadata": {},
   "source": [
    "### Extracting the Coefficients and Intercept"
   ]
  },
  {
   "cell_type": "code",
   "execution_count": 13,
   "metadata": {},
   "outputs": [
    {
     "name": "stdout",
     "output_type": "stream",
     "text": [
      "The Coefficients from the Logistic Regression are [[-0.74518511 -0.36643182 -0.25781723]]\n",
      "The Intercept from the Logistic Regression is [2.15354424]\n"
     ]
    }
   ],
   "source": [
    "print('The Coefficients from the Logistic Regression are {}'.format(lr.coef_))\n",
    "print('The Intercept from the Logistic Regression is {}'.format(lr.intercept_))"
   ]
  },
  {
   "cell_type": "markdown",
   "metadata": {},
   "source": [
    "### \"De-Arraying\" the Coefficients and Intercept"
   ]
  },
  {
   "cell_type": "code",
   "execution_count": 14,
   "metadata": {},
   "outputs": [
    {
     "name": "stdout",
     "output_type": "stream",
     "text": [
      "The coefficient of the feature \"angina\" is -0.7451851096866057\n",
      "The coefficient of the feature \"slope\" is -0.36643182206362124\n",
      "The coefficient of the feature \"thal\" is -0.25781723439203913\n",
      "The Intercept has the value of 2.153544244675405\n"
     ]
    }
   ],
   "source": [
    "#Get the Coefficients and Intercept from Above (Still in Array Format)\n",
    "coefs = lr.coef_[0]\n",
    "intercept = lr.intercept_\n",
    "\n",
    "#Strip the Array Formatting\n",
    "print('The coefficient of the feature \"angina\" is {}'.format(coefs[0]))\n",
    "print('The coefficient of the feature \"slope\" is {}'.format(coefs[1]))\n",
    "print('The coefficient of the feature \"thal\" is {}'.format(coefs[2]))\n",
    "print('The Intercept has the value of {}'.format(intercept[0]))"
   ]
  },
  {
   "cell_type": "markdown",
   "metadata": {},
   "source": [
    "### Final Model:"
   ]
  },
  {
   "cell_type": "markdown",
   "metadata": {},
   "source": [
    "### z = -0.745*angina  + -0.366*slope + -0.257*thal + 2.153"
   ]
  },
  {
   "cell_type": "markdown",
   "metadata": {},
   "source": [
    "# Testing the Model on Unseen Data"
   ]
  },
  {
   "cell_type": "markdown",
   "metadata": {},
   "source": [
    "### Creating the Sigmoid Function"
   ]
  },
  {
   "cell_type": "code",
   "execution_count": 15,
   "metadata": {},
   "outputs": [],
   "source": [
    "#Sigmoid Function\n",
    "def sigmoid(z):\n",
    "    return 1/(1+np.exp(-z))"
   ]
  },
  {
   "cell_type": "markdown",
   "metadata": {},
   "source": [
    "### Calculating the Dot Product"
   ]
  },
  {
   "cell_type": "code",
   "execution_count": 16,
   "metadata": {},
   "outputs": [
    {
     "name": "stdout",
     "output_type": "stream",
     "text": [
      "From the dot product, we find: z=wx + b = -1.129\n",
      "\n"
     ]
    }
   ],
   "source": [
    "angina, slope, thal = 1, 2, 7 #Class 0\n",
    "z = np.dot(np.array([angina, slope, thal]), np.array(lr.coef_[0])) + lr.intercept_[0]\n",
    "print(\"From the dot product, we find: z=wx + b = {0:0.3f}\\n\".format(z))"
   ]
  },
  {
   "cell_type": "markdown",
   "metadata": {},
   "source": [
    "### Checking our Dot Product for Accuracy"
   ]
  },
  {
   "cell_type": "code",
   "execution_count": 17,
   "metadata": {},
   "outputs": [
    {
     "name": "stdout",
     "output_type": "stream",
     "text": [
      "After doing a Brute Force Calculation, z = -1.129\n"
     ]
    }
   ],
   "source": [
    "print('After doing a Brute Force Calculation, z = {0:0.3f}'.format(angina*coefs[0] + slope*coefs[1] + thal*coefs[2] + intercept[0]))"
   ]
  },
  {
   "cell_type": "markdown",
   "metadata": {},
   "source": [
    "### Calling the Sigmoid Function and Displaying Value"
   ]
  },
  {
   "cell_type": "code",
   "execution_count": 18,
   "metadata": {},
   "outputs": [
    {
     "data": {
      "text/plain": [
       "0.2443041250951056"
      ]
     },
     "execution_count": 18,
     "metadata": {},
     "output_type": "execute_result"
    }
   ],
   "source": [
    "p = sigmoid(np.dot([angina, slope, thal], lr.coef_[0]) + lr.intercept_[0])\n",
    "p"
   ]
  },
  {
   "cell_type": "markdown",
   "metadata": {},
   "source": [
    "Based on the above data from Patient 1 (Index 0), the model was able to calculate that they fell into Class 0 (no heart issues), which is correct."
   ]
  },
  {
   "cell_type": "markdown",
   "metadata": {},
   "source": [
    "### Classifying Unknown Patient 1"
   ]
  },
  {
   "cell_type": "code",
   "execution_count": 19,
   "metadata": {},
   "outputs": [
    {
     "name": "stdout",
     "output_type": "stream",
     "text": [
      "The Dot Product Calcualtion is 0.647\n",
      "The Prediction Calculation from the Sigmoid function is 0.656\n",
      "\n",
      "The predicted value is 0.656, which rounds to 1\n",
      "Therefore, the predicted class is [1]\n"
     ]
    }
   ],
   "source": [
    "#Establishing Features\n",
    "angina, slope, thal = 0, 2, 3 #Class 1\n",
    "\n",
    "#Calculating the Dot Product\n",
    "z = np.dot(np.array([angina, slope, thal]), np.array(lr.coef_[0])) + lr.intercept_[0]\n",
    "print('The Dot Product Calcualtion is {0:0.3f}'.format(z))\n",
    "\n",
    "#Predicting the Class\n",
    "p = sigmoid(np.dot([angina, slope, thal], lr.coef_[0]) + lr.intercept_[0])\n",
    "print('The Prediction Calculation from the Sigmoid function is {0:0.3f}'.format(p))\n",
    "\n",
    "\n",
    "#Explaining Results\n",
    "print('\\nThe predicted value is {1:0.3f}, which rounds to {2:0.0f}'.format(0,p,round(p,0)))\n",
    "print('Therefore, the predicted class is {}'.format(lr.predict([[angina, slope, thal]])))"
   ]
  },
  {
   "cell_type": "markdown",
   "metadata": {},
   "source": [
    "### Classifying Unknown Patient 2"
   ]
  },
  {
   "cell_type": "code",
   "execution_count": 20,
   "metadata": {},
   "outputs": [
    {
     "name": "stdout",
     "output_type": "stream",
     "text": [
      "The Dot Product Calcualtion is -1.238\n",
      "The Prediction Calculation from the Sigmoid function is 0.225\n",
      "\n",
      "The predicted value is 0.225, which rounds to 0\n",
      "Therefore, the predicted class is [0]\n"
     ]
    }
   ],
   "source": [
    "#Establishing Features\n",
    "angina, slope, thal = 1, 3, 6 #Class 0\n",
    "\n",
    "#Calculating the Dot Product\n",
    "z = np.dot(np.array([angina, slope, thal]), np.array(lr.coef_[0])) + lr.intercept_[0]\n",
    "print('The Dot Product Calcualtion is {0:0.3f}'.format(z))\n",
    "\n",
    "#Predicting the Class\n",
    "p = sigmoid(np.dot([angina, slope, thal], lr.coef_[0]) + lr.intercept_[0])\n",
    "print('The Prediction Calculation from the Sigmoid function is {0:0.3f}'.format(p))\n",
    "\n",
    "\n",
    "#Explaining Results\n",
    "print('\\nThe predicted value is {1:0.3f}, which rounds to {2:0.0f}'.format(0,p,round(p,0)))\n",
    "print('Therefore, the predicted class is {}'.format(lr.predict([[angina, slope, thal]])))"
   ]
  },
  {
   "cell_type": "markdown",
   "metadata": {},
   "source": [
    "### Classifying Unknown Patient 3"
   ]
  },
  {
   "cell_type": "code",
   "execution_count": 21,
   "metadata": {},
   "outputs": [
    {
     "name": "stdout",
     "output_type": "stream",
     "text": [
      "The Dot Product Calcualtion is 1.014\n",
      "The Prediction Calculation from the Sigmoid function is 0.734\n",
      "\n",
      "The predicted value is 0.734, which rounds to 1\n",
      "Therefore, the predicted class is [1]\n"
     ]
    }
   ],
   "source": [
    "#Establishing Features\n",
    "angina, slope, thal = 0, 1, 3 #Class 1\n",
    "\n",
    "#Calculating the Dot Product\n",
    "z = np.dot(np.array([angina, slope, thal]), np.array(lr.coef_[0])) + lr.intercept_[0]\n",
    "print('The Dot Product Calcualtion is {0:0.3f}'.format(z))\n",
    "\n",
    "#Predicting the Class\n",
    "p = sigmoid(np.dot([angina, slope, thal], lr.coef_[0]) + lr.intercept_[0])\n",
    "print('The Prediction Calculation from the Sigmoid function is {0:0.3f}'.format(p))\n",
    "\n",
    "\n",
    "#Explaining Results\n",
    "print('\\nThe predicted value is {1:0.3f}, which rounds to {2:0.0f}'.format(0,p,round(p,0)))\n",
    "print('Therefore, the predicted class is {}'.format(lr.predict([[angina, slope, thal]])))"
   ]
  },
  {
   "cell_type": "markdown",
   "metadata": {},
   "source": [
    "### Summary Table"
   ]
  },
  {
   "cell_type": "markdown",
   "metadata": {},
   "source": [
    "<table>\n",
    "    <tr> <td>Angina</td> <td>Slope</td> <td>Thal</td> <td>Known Class</td> <td>Values from the Logistic Regression Model</td> <td>Predicted Class from the Logistic Regression Model</td> </tr>\n",
    "       <tr> <td>0</td> <td>2</td> <td>3</td> <td>1</td> <td> <center/>0.647 </td> <td><center/>1 </td> </tr>\n",
    "       <tr> <td>1</td> <td>3</td> <td>6</td> <td>0</td> <td> <center/>0.225 </td> <td><center/>0 </td> </tr>\n",
    "       <tr> <td>0</td> <td>1</td> <td>3</td> <td>1</td> <td> <center/>0.734 </td> <td><center/>1 </td> </tr>\n",
    "</table>"
   ]
  },
  {
   "cell_type": "markdown",
   "metadata": {},
   "source": [
    "Based on the calculated values and predicted classes, the model correctly classified all the unknown instances!"
   ]
  },
  {
   "cell_type": "code",
   "execution_count": null,
   "metadata": {},
   "outputs": [],
   "source": []
  }
 ],
 "metadata": {
  "kernelspec": {
   "display_name": "Python 3",
   "language": "python",
   "name": "python3"
  },
  "language_info": {
   "codemirror_mode": {
    "name": "ipython",
    "version": 3
   },
   "file_extension": ".py",
   "mimetype": "text/x-python",
   "name": "python",
   "nbconvert_exporter": "python",
   "pygments_lexer": "ipython3",
   "version": "3.8.3"
  }
 },
 "nbformat": 4,
 "nbformat_minor": 4
}
